{
 "cells": [
  {
   "cell_type": "markdown",
   "id": "12403db4-ea0f-4b1d-8ecc-00d01b0cbc13",
   "metadata": {},
   "source": [
    "# Course Project\n",
    "## Bahaa Joudieh, Carly Craffen, Jordan Richardson & Vivian Wu"
   ]
  },
  {
   "cell_type": "code",
   "execution_count": null,
   "id": "69eee55e-3f89-4994-b803-dcc021d17d18",
   "metadata": {
    "tags": []
   },
   "outputs": [],
   "source": [
    "# Import the necessary Python modules for data analysis and visualization\n",
    "import numpy as np\n",
    "import matplotlib.pyplot as plt\n",
    "import pandas as pd\n",
    "import seaborn as sns\n",
    "import missingno as msno\n",
    "import pingouin as pg\n",
    "pd.options.display.precision = 2"
   ]
  },
  {
   "cell_type": "code",
   "execution_count": null,
   "id": "bde8bbcf-eb25-48d8-85fc-b81112fcf909",
   "metadata": {
    "tags": []
   },
   "outputs": [],
   "source": [
    "# Read the required CSV files into their own dataframes\n",
    "df_fuel_level_1 = pd.read_csv('https://www.dropbox.com/scl/fi/790m9gez90tjjsmiw27tn/Fuel_Level_Part_1.csv?rlkey=rsb3q82tsfqc7y6ds1qfy12h1&raw=1')\n",
    "df_fuel_level_2 = pd.read_csv('https://www.dropbox.com/scl/fi/fjsdt4madtvref5xj18g0/Fuel_Level_Part_2.csv?rlkey=brch0h5n4cuv6qlpm9drbzxnn&raw=1')\n",
    "df_invoices = pd.read_csv('https://www.dropbox.com/scl/fi/4q9jh3wmobkzr6ygbirx0/Invoices.csv?rlkey=tki3bfeeifstgxnjwptiwxsnb&raw=1')\n",
    "df_locations = pd.read_csv('https://www.dropbox.com/scl/fi/cmiedj0s7dd7srn5ffpo6/Locations.csv?rlkey=f6lbol9mwc8t1l8f2f2itr7xf&raw=1')\n",
    "df_tanks = pd.read_csv('https://www.dropbox.com/scl/fi/4x6hvawziiuzkr51c4n27/Tanks.csv?rlkey=tlgb1dnlgyv4yae7pqnne4tsh&raw=1')"
   ]
  },
  {
   "cell_type": "code",
   "execution_count": null,
   "id": "d17867cf-9a44-48e7-b1b2-c08c5cc97b8d",
   "metadata": {
    "tags": []
   },
   "outputs": [],
   "source": [
    "# Display dataframes to visualize what the data includes\n",
    "display(df_fuel_level_1)\n",
    "display(df_fuel_level_2)\n",
    "display(df_invoices)\n",
    "display(df_locations)\n",
    "display(df_tanks)"
   ]
  },
  {
   "cell_type": "markdown",
   "id": "60432c6d-e0b3-4803-a88e-9c21afd21c48",
   "metadata": {},
   "source": [
    "## Describing the Data: Cleaning & Merging"
   ]
  },
  {
   "cell_type": "code",
   "execution_count": null,
   "id": "7d772c71-27ae-4936-9b78-2e093a771bb3",
   "metadata": {
    "tags": []
   },
   "outputs": [],
   "source": [
    "# Data Cleaning Part 1\n",
    "# Let's first start with ensuring the df_fuel_level_1 is cleaned\n",
    "\n",
    "df_fuel_level_1.head() # Displays the first few rows of df_fuel_1 to examine its structure"
   ]
  },
  {
   "cell_type": "code",
   "execution_count": null,
   "id": "9d2d88e7-dee2-4559-bbbb-b706fb3cba66",
   "metadata": {
    "tags": []
   },
   "outputs": [],
   "source": [
    "# Check for and count duplicated rows in the df_fuel_level_1 DataFrame, returning the sum\n",
    "count_1 = df_fuel_level_1.duplicated().sum()\n",
    "print(count_1)\n",
    "\n",
    "# Remove duplicate rows in df_fuel_level_1, making changes in-place.\n",
    "df_fuel_level_1.drop_duplicates(inplace=True)\n",
    "\n",
    "# Check for missing values (NaN) in each column of df_fuel_level_1 and return the sum\n",
    "missing_count_1 = df_fuel_level_1.isna().sum()\n",
    "print(missing_count_1)\n",
    "\n",
    "# Remove rows containing missing values (NaN) in df_fuel_level_1, making changes in-place\n",
    "df_fuel_level_1.dropna(inplace=True)\n",
    "\n",
    "# After removing duplicate rows and rows with missing values, we now want to reset the index of the DataFrame\n",
    "df_fuel_level_1.reset_index(drop=True)"
   ]
  },
  {
   "cell_type": "code",
   "execution_count": null,
   "id": "05a0128d-099a-486f-9f03-5c3cb52fca6e",
   "metadata": {},
   "outputs": [],
   "source": [
    "# Data Cleaning Part 2 \n",
    "# Let's first start with ensuring the df_fuel_level_2 is cleaned\n",
    "\n",
    "df_fuel_level_2.head() # Displays the first few rows of df_fuel_2 to examine its structure"
   ]
  },
  {
   "cell_type": "code",
   "execution_count": null,
   "id": "9e1f47dc-9b69-43bf-bdcf-e26a0097715c",
   "metadata": {
    "tags": []
   },
   "outputs": [],
   "source": [
    "# Check for and count duplicated rows in the df_fuel_level_2 DataFrame, returning a sum\n",
    "count_2 = df_fuel_level_2.duplicated().sum()\n",
    "print(count_2)\n",
    "\n",
    "# Remove duplicate rows in df_fuel_level_2, making changes in-place\n",
    "df_fuel_level_2.drop_duplicates(inplace=True)\n",
    "\n",
    "# Check for missing values (NaN) in each column of df_fuel_level_2 and return the sum\n",
    "missing_count_2 = df_fuel_level_2.isna().sum()\n",
    "print(missing_count_2)"
   ]
  },
  {
   "cell_type": "code",
   "execution_count": null,
   "id": "b3567ba1-d729-4c72-b0ef-2b0d23cb8af1",
   "metadata": {
    "tags": []
   },
   "outputs": [],
   "source": [
    "# Data Cleaning Part 3\n",
    "# Let's merge df_fuel_level_1 and df_fuel_level_2\n",
    "\n",
    "# Rename columns in df_fuel_level_1 to match the column names in df_fuel_level_2\n",
    "df_fuel_level_1.rename({'Tank ID': 'Tank_ID',\n",
    "                        'Fuel Level': 'Fuel_Level',\n",
    "                        'Time stamp': 'Time_stamp'}, axis=1, inplace=True)\n",
    "\n",
    "# Rename columns in df_fuel_level_2 to match the column names in df_fuel_level_1\n",
    "df_fuel_level_2.rename({'Tank ID': 'Tank_ID',\n",
    "                        'Timestamp': 'Time_stamp'}, axis=1, inplace=True)\n",
    "\n",
    "# Merge the two dataframes (df_fuel_level_1 and df_fuel_level_2) into a single dataframe, df_total\n",
    "df_total = pd.concat([df_fuel_level_1, df_fuel_level_2])"
   ]
  },
  {
   "cell_type": "code",
   "execution_count": null,
   "id": "fbb90910-3922-4c38-8cc1-f0529d6bfcb6",
   "metadata": {
    "tags": []
   },
   "outputs": [],
   "source": [
    "# Display information about the DataFrame df_total\n",
    "df_total.info()"
   ]
  },
  {
   "cell_type": "code",
   "execution_count": null,
   "id": "6083e11a-b989-4de1-940a-ee5e3d12d6d3",
   "metadata": {
    "tags": []
   },
   "outputs": [],
   "source": [
    "# Convert the 'Time_stamp' column to datetime format\n",
    "df_total.Time_stamp = pd.to_datetime(df_total.Time_stamp)"
   ]
  },
  {
   "cell_type": "code",
   "execution_count": null,
   "id": "9c3be440-84fb-49c6-8e64-68d361425982",
   "metadata": {
    "tags": []
   },
   "outputs": [],
   "source": [
    "# Data Cleaning Part 4\n",
    "# Let's focus on df_invoices\n",
    "\n",
    "# Display information about the DataFrame df_invoices\n",
    "display(df_invoices)"
   ]
  },
  {
   "cell_type": "code",
   "execution_count": null,
   "id": "80a4efba-210b-4c6a-bbd4-44143118a305",
   "metadata": {
    "tags": []
   },
   "outputs": [],
   "source": [
    "# Remove duplicate rows from the df_invoices DataFrame\n",
    "df_invoices.drop_duplicates(inplace=True)\n",
    "\n",
    "# Check for and count duplicated 'Invoice ID' values in the df_invoices DataFrame\n",
    "count_3 = df_invoices['Invoice ID'].duplicated().sum()\n",
    "print(count_3)\n",
    "\n",
    "# Check for missing values (NaN) in each column of df_invoices and return sum\n",
    "missing_count_3 = df_invoices.isna().sum()\n",
    "print(missing_count_3)"
   ]
  },
  {
   "cell_type": "code",
   "execution_count": null,
   "id": "4d1aa94d-ba49-4435-aa41-4a39c983311c",
   "metadata": {
    "tags": []
   },
   "outputs": [],
   "source": [
    "# Visualize missing data in the DataFrame df_invoices using the msno.matrix function\n",
    "msno.matrix(df_invoices);"
   ]
  },
  {
   "cell_type": "code",
   "execution_count": null,
   "id": "3032fcfc-f0d2-4f1f-804e-b1e2094f18fe",
   "metadata": {
    "tags": []
   },
   "outputs": [],
   "source": [
    "# Identify and examine rows in the DataFrame where at least one column has missing values\n",
    "missing_rows = df_invoices[df_invoices.isna().any(axis=1)]\n",
    "print(missing_rows)\n",
    "\n",
    "# Drop rows with missing values (NaN) from df_invoices\n",
    "df_invoices.dropna(how='any', \n",
    "                   inplace=True)"
   ]
  },
  {
   "cell_type": "code",
   "execution_count": null,
   "id": "f15ee448-f0e3-4ae5-9ab1-fb78f59f4aba",
   "metadata": {
    "tags": []
   },
   "outputs": [],
   "source": [
    "# Create a new column 'Cost_per_liter' in the df_invoices DataFrame (this gives us better insights)\n",
    "# We divide the 'Gross Purchase Cost' by the 'Amount Purchased' for each row\n",
    "df_invoices['Cost_per_liter'] = df_invoices['Gross Purchase Cost'].div(df_invoices['Amount Purchased'])"
   ]
  },
  {
   "cell_type": "code",
   "execution_count": null,
   "id": "bd547d75-fee9-4e25-b874-6c8968fa93a9",
   "metadata": {
    "tags": []
   },
   "outputs": [],
   "source": [
    "# Let's look at the remaining DataFrames\n",
    "\n",
    "# Display the contents of the df_locations DataFrame\n",
    "display(df_locations)\n",
    "\n",
    "# Display the contents of the df_tanks DataFrame\n",
    "display(df_tanks)"
   ]
  },
  {
   "cell_type": "code",
   "execution_count": null,
   "id": "f2478fa9-bdb8-4593-817b-fd4c01e08a2d",
   "metadata": {
    "tags": []
   },
   "outputs": [],
   "source": [
    "# Data Cleaning Part 5\n",
    "# Merging all relevant data sets\n",
    "\n",
    "# Merge df_total with df_tanks based on the 'Tank_ID' and 'Tank ID' columns\n",
    "df_total = df_total.merge(df_tanks,\n",
    "               left_on='Tank_ID',\n",
    "               right_on='Tank ID',\n",
    "               how='left',\n",
    "               validate='m:1')\n",
    "\n",
    "# Rename columns to match a consistent naming convention across datasets\n",
    "df_total.rename({'Tank Location': 'Tank_Location',\n",
    "                'Tank Number': 'Tank_Number',\n",
    "                'Tank Type': 'Tank_Type',\n",
    "                'Tank Capacity': 'Tank_Capacity'}, axis=1, inplace=True)\n",
    "\n",
    "# Drop the 'Tank ID' column as it's no longer needed after the merge\n",
    "df_total.drop('Tank ID', axis=1, inplace=True)\n",
    "\n",
    "# Merge df_total with df_locations to add location information\n",
    "df_total = df_total.merge(df_locations[['Gas Station Location', 'Gas Station Name']],\n",
    "                          left_on='Tank_Location',\n",
    "                          right_on='Gas Station Location',\n",
    "                          how='left',\n",
    "                          validate='m:1')\n",
    "\n",
    "# Drop the 'Gas Station Location' column as it's no longer needed\n",
    "df_total.drop('Gas Station Location', axis=1, inplace=True)\n",
    "\n",
    "# Rename the 'Gas Station Name' column to 'Station_Name' for consistency\n",
    "df_total.rename({'Gas Station Name': 'Station_Name'}, axis=1, inplace=True)"
   ]
  },
  {
   "cell_type": "code",
   "execution_count": null,
   "id": "c81d1325-3ffe-470e-812b-4a72f74809ce",
   "metadata": {
    "tags": []
   },
   "outputs": [],
   "source": [
    "# Convert the 'Invoice Date' column to a datetime data type using pd.to_datetime\n",
    "df_invoices['Invoice Date'] = pd.to_datetime(df_invoices['Invoice Date'])\n",
    "\n",
    "# Create a new column 'Day_of_Week' to extract and store the day of the week from the 'Invoice Date'\n",
    "df_invoices['Day_of_Week'] = df_invoices['Invoice Date'].dt.day_name()"
   ]
  },
  {
   "cell_type": "markdown",
   "id": "ea1896af-087e-4973-a0fd-e18c3c8f4630",
   "metadata": {},
   "source": [
    "## Splitting the Data into Manageable Parts"
   ]
  },
  {
   "cell_type": "code",
   "execution_count": null,
   "id": "2218746f-0a0f-43e1-884c-33ca776f6c53",
   "metadata": {},
   "outputs": [],
   "source": [
    "# Splitting Data by Tank\n",
    "\n",
    "# Create separate DataFrames for each tank (T10, T11, T12, ..., T32) based on 'Tank_ID'\n",
    "df_T10 = df_total.groupby(by=['Tank_ID']).get_group('T 10').reset_index(drop=True)\n",
    "df_T11 = df_total.groupby(by=['Tank_ID']).get_group('T 11').reset_index(drop=True)\n",
    "df_T12 = df_total.groupby(by=['Tank_ID']).get_group('T 12').reset_index(drop=True)\n",
    "df_T13 = df_total.groupby(by=['Tank_ID']).get_group('T 13').reset_index(drop=True)\n",
    "df_T14 = df_total.groupby(by=['Tank_ID']).get_group('T 14').reset_index(drop=True)\n",
    "df_T15 = df_total.groupby(by=['Tank_ID']).get_group('T 15').reset_index(drop=True)\n",
    "df_T16 = df_total.groupby(by=['Tank_ID']).get_group('T 16').reset_index(drop=True)\n",
    "df_T17 = df_total.groupby(by=['Tank_ID']).get_group('T 17').reset_index(drop=True)\n",
    "df_T18 = df_total.groupby(by=['Tank_ID']).get_group('T 18').reset_index(drop=True)\n",
    "df_T19 = df_total.groupby(by=['Tank_ID']).get_group('T 19').reset_index(drop=True)\n",
    "df_T20 = df_total.groupby(by=['Tank_ID']).get_group('T 20').reset_index(drop=True)\n",
    "df_T21 = df_total.groupby(by=['Tank_ID']).get_group('T 21').reset_index(drop=True)\n",
    "df_T22 = df_total.groupby(by=['Tank_ID']).get_group('T 22').reset_index(drop=True)\n",
    "df_T23 = df_total.groupby(by=['Tank_ID']).get_group('T 23').reset_index(drop=True)\n",
    "df_T24 = df_total.groupby(by=['Tank_ID']).get_group('T 24').reset_index(drop=True)\n",
    "df_T25 = df_total.groupby(by=['Tank_ID']).get_group('T 25').reset_index(drop=True)\n",
    "df_T26 = df_total.groupby(by=['Tank_ID']).get_group('T 26').reset_index(drop=True)\n",
    "df_T27 = df_total.groupby(by=['Tank_ID']).get_group('T 27').reset_index(drop=True)\n",
    "df_T28 = df_total.groupby(by=['Tank_ID']).get_group('T 28').reset_index(drop=True)\n",
    "df_T29 = df_total.groupby(by=['Tank_ID']).get_group('T 29').reset_index(drop=True)\n",
    "df_T30 = df_total.groupby(by=['Tank_ID']).get_group('T 30').reset_index(drop=True)\n",
    "df_T31 = df_total.groupby(by=['Tank_ID']).get_group('T 31').reset_index(drop=True)\n",
    "df_T32 = df_total.groupby(by=['Tank_ID']).get_group('T 32').reset_index(drop=True)"
   ]
  },
  {
   "cell_type": "code",
   "execution_count": null,
   "id": "cd88dd88-5474-457f-a5eb-f25213d319f3",
   "metadata": {
    "tags": []
   },
   "outputs": [],
   "source": [
    "# Splitting Data by Fuel Location\n",
    "\n",
    "# Create separate DataFrames for each fuel location (FL_1, FL_2, FL_3, ..., FL_8) based on 'Tank_Location'\n",
    "df_FL_1 = df_total.groupby(by=['Tank_Location']).get_group(1).reset_index(drop=True)\n",
    "df_FL_2 = df_total.groupby(by=['Tank_Location']).get_group(2).reset_index(drop=True)\n",
    "df_FL_3 = df_total.groupby(by=['Tank_Location']).get_group(3).reset_index(drop=True)\n",
    "df_FL_4 = df_total.groupby(by=['Tank_Location']).get_group(4).reset_index(drop=True)\n",
    "df_FL_5 = df_total.groupby(by=['Tank_Location']).get_group(5).reset_index(drop=True)\n",
    "df_FL_6 = df_total.groupby(by=['Tank_Location']).get_group(6).reset_index(drop=True)\n",
    "df_FL_7 = df_total.groupby(by=['Tank_Location']).get_group(7).reset_index(drop=True)\n",
    "df_FL_8 = df_total.groupby(by=['Tank_Location']).get_group(8).reset_index(drop=True)"
   ]
  },
  {
   "cell_type": "code",
   "execution_count": null,
   "id": "d275f5c3-f96d-490d-88f1-a0ae93515273",
   "metadata": {
    "tags": []
   },
   "outputs": [],
   "source": [
    "# Creating a DataFrame for Inflation Data\n",
    "\n",
    "# Define a dictionary containing inflation rate data for specific months and years\n",
    "inflation_rate = {\n",
    "    'Date': ['January 2017', 'February 2017', 'March 2017', 'April 2017', 'May 2017',\n",
    "             'June 2017', 'July 2017', 'August 2017', 'September 2017', 'October 2017',\n",
    "             'November 2017', 'December 2017', 'January 2018', 'February 2018', 'March 2018',\n",
    "             'April 2018', 'May 2018', 'June 2018', 'July 2018', 'August 2018',\n",
    "             'September 2018', 'October 2018', 'November 2018', 'December 2018',\n",
    "             'January 2019', 'February 2019', 'March 2019', 'April 2019', 'May 2019',\n",
    "             'June 2019', 'July 2019', 'August 2019'],\n",
    "    'Rate': [2.13, 2.05, 1.56, 1.64, 1.32, 1.01, 1.16, 1.4, 1.55, 1.39, 2.1, 1.87, 1.7, 2.16,\n",
    "             2.31, 2.22, 2.22, 2.45, 2.99, 2.84, 2.22, 2.44, 1.68, 1.99, 1.44, 1.51, 1.88, 2.03,\n",
    "             2.4, 2.02, 2.01, 1.94]\n",
    "}\n",
    "\n",
    "# Create a DataFrame, df_inflation, using the inflation_rate dictionary\n",
    "df_inflation = pd.DataFrame(inflation_rate)\n",
    "\n",
    "# Calculate an 'Inflation_Multiplier' column by dividing the 'Rate' by 100 and adding 1\n",
    "df_inflation['Inflation_Multiplier'] = (df_inflation.Rate / 100) + 1"
   ]
  },
  {
   "cell_type": "code",
   "execution_count": null,
   "id": "5666974a-b6f7-452f-8b7d-1ae46a5223ab",
   "metadata": {
    "tags": []
   },
   "outputs": [],
   "source": [
    "# Merging Infaltion with Current Data\n",
    "\n",
    "# Convert the 'Date' column in the df_inflation DataFrame to a datetime data type using pd.to_datetime\n",
    "df_inflation['Date'] = pd.to_datetime(df_inflation['Date'])\n",
    "\n",
    "# Create new columns 'Year' and 'Month' in df_inflation\n",
    "df_inflation['Year'] = df_inflation['Date'].dt.year\n",
    "df_inflation['Month'] = df_inflation['Date'].dt.month_name()\n",
    "\n",
    "# Create 'Year' and 'Month' columns in df_invoices\n",
    "df_invoices['Year'] = df_invoices['Invoice Date'].dt.year\n",
    "df_invoices['Month'] = df_invoices['Invoice Date'].dt.month_name()\n",
    "\n",
    "# Merge the df_invoices DataFrame with the df_inflation DataFrame\n",
    "df_invoices = df_invoices.merge(df_inflation[['Month', 'Year', 'Inflation_Multiplier']],\n",
    "                           on=['Month', 'Year'],\n",
    "                           how='left',\n",
    "                           validate='m:1')"
   ]
  },
  {
   "cell_type": "code",
   "execution_count": null,
   "id": "f8d3ef54-e842-4002-a3dc-5ceb80da8674",
   "metadata": {
    "tags": []
   },
   "outputs": [],
   "source": [
    "# Calculate 'Adjusted_cost' by dividing 'Cost_per_liter' by 'Inflation_Multiplier'\n",
    "df_invoices['Adjusted_cost'] = df_invoices.Cost_per_liter.div(df_invoices.Inflation_Multiplier)\n",
    "\n",
    "# Create separate DataFrames for each invoice location (Inv_1, Inv_2, Inv_3, ..., Inv_8) based on 'Invoice Gas Station Location'\n",
    "df_Inv_1 = df_invoices[df_invoices['Invoice Gas Station Location'] == 1]\n",
    "df_Inv_2 = df_invoices[df_invoices['Invoice Gas Station Location'] == 2]\n",
    "df_Inv_3 = df_invoices[df_invoices['Invoice Gas Station Location'] == 3]\n",
    "df_Inv_4 = df_invoices[df_invoices['Invoice Gas Station Location'] == 4]\n",
    "df_Inv_5 = df_invoices[df_invoices['Invoice Gas Station Location'] == 5]\n",
    "df_Inv_6 = df_invoices[df_invoices['Invoice Gas Station Location'] == 6]\n",
    "df_Inv_7 = df_invoices[df_invoices['Invoice Gas Station Location'] == 7]\n",
    "df_Inv_8 = df_invoices[df_invoices['Invoice Gas Station Location'] == 8]"
   ]
  },
  {
   "cell_type": "code",
   "execution_count": null,
   "id": "d866481b-dada-4d9d-b478-ebbfc7e06bab",
   "metadata": {
    "tags": []
   },
   "outputs": [],
   "source": [
    "# Creating Temporary DataFrames for Invoice Analysis\n",
    "\n",
    "# For each invoice location (Inv_1, Inv_2, ..., Inv_8), create temporary DataFrames (temp1, temp2, ..., temp8) \n",
    "temp1 = df_Inv_1.groupby(by=['Invoice Gas Station Location', 'Day_of_Week', 'Fuel Type'])['Invoice ID'].count().reset_index()\n",
    "temp2 = df_Inv_2.groupby(by=['Invoice Gas Station Location', 'Day_of_Week', 'Fuel Type'])['Invoice ID'].count().reset_index()\n",
    "temp3 = df_Inv_3.groupby(by=['Invoice Gas Station Location', 'Day_of_Week', 'Fuel Type'])['Invoice ID'].count().reset_index()\n",
    "temp4 = df_Inv_4.groupby(by=['Invoice Gas Station Location', 'Day_of_Week', 'Fuel Type'])['Invoice ID'].count().reset_index()\n",
    "temp5 = df_Inv_5.groupby(by=['Invoice Gas Station Location', 'Day_of_Week', 'Fuel Type'])['Invoice ID'].count().reset_index()\n",
    "temp6 = df_Inv_6.groupby(by=['Invoice Gas Station Location', 'Day_of_Week', 'Fuel Type'])['Invoice ID'].count().reset_index()\n",
    "temp7 = df_Inv_7.groupby(by=['Invoice Gas Station Location', 'Day_of_Week', 'Fuel Type'])['Invoice ID'].count().reset_index()\n",
    "temp8 = df_Inv_8.groupby(by=['Invoice Gas Station Location', 'Day_of_Week', 'Fuel Type'])['Invoice ID'].count().reset_index()"
   ]
  },
  {
   "cell_type": "code",
   "execution_count": null,
   "id": "32ec9883-e47b-4d8d-9057-969244b39391",
   "metadata": {
    "tags": []
   },
   "outputs": [],
   "source": [
    "# Location vs Number of Invoices\n",
    "\n",
    "temp = df_invoices.groupby(by=['Invoice Gas Station Location', 'Day_of_Week', 'Fuel Type'])['Invoice ID'].count().reset_index()\n",
    "\n",
    "sns.set_style(\"whitegrid\")  # Set the plot style to a white grid background\n",
    "plt.figure(figsize=(12, 6))  # Set the figure size to control the plot's dimensions\n",
    "\n",
    "# Create the bar plot\n",
    "ax = sns.barplot(data=temp, \n",
    "                 x='Invoice Gas Station Location', \n",
    "                 y='Invoice ID', \n",
    "                 hue='Fuel Type', \n",
    "                 palette = 'colorblind', \n",
    "                 errorbar=None)\n",
    "\n",
    "# Add axis titles to the plot\n",
    "plt.xlabel(\"Location (Gas Station)\")\n",
    "plt.ylabel(\"Number of Invoices\")\n",
    "\n",
    "# Set the legend outside the plot for better readability\n",
    "plt.legend(title=\"Fuel Type\", title_fontsize='15', loc='upper left', bbox_to_anchor=(1, 1))\n",
    "\n",
    "# Add a title to the plot\n",
    "plt.title(\"Number of Invoices by Gas Station Location\", fontsize=16)\n",
    "\n",
    "# Rotate the x-axis labels for better readability\n",
    "plt.xticks(rotation=45)\n",
    "\n",
    "# Save the plot as a JPG image\n",
    "plt.savefig(\"Invoices_By_Gas_Station.jpg\", dpi=250, bbox_inches=\"tight\")\n",
    "\n",
    "# Show the plot\n",
    "plt.show()"
   ]
  },
  {
   "cell_type": "code",
   "execution_count": null,
   "id": "b729635a-ac44-44f9-8953-21c609ddbed6",
   "metadata": {
    "tags": []
   },
   "outputs": [],
   "source": [
    "# Tank Number vs Tank Capacity\n",
    "\n",
    "sns.set_style(\"whitegrid\")  # Set the plot style to a white grid background\n",
    "plt.figure(figsize=(12, 6))  # Set the figure size to control the plot's dimensions\n",
    "\n",
    "# Create the horizontal bar plot\n",
    "bar_plot = sns.barplot(data=df_tanks, \n",
    "                       x='Tank Capacity', \n",
    "                       y='Tank ID', \n",
    "                       palette='colorblind', \n",
    "                       hue= 'Tank Location', \n",
    "                       dodge = False)\n",
    "\n",
    "# Add axis titles to the plot\n",
    "plt.xlabel(\"Tank Capacity (in Liters)\")\n",
    "plt.ylabel(\"Tank ID\")\n",
    "\n",
    "# Add a title to the plot\n",
    "plt.title(\"Tank Capacity by Tank ID\", fontsize=16)\n",
    "\n",
    "# Set the legend outside the plot for better readability\n",
    "plt.legend(title=\"Tank Location\", title_fontsize='15', loc='upper left', bbox_to_anchor=(1, 1))\n",
    "\n",
    "# Save the plot as a JPG image\n",
    "plt.savefig(\"Tank_Capacity.jpg\", dpi=250, bbox_inches=\"tight\")\n",
    "\n",
    "# Show the plot\n",
    "plt.show()"
   ]
  },
  {
   "cell_type": "code",
   "execution_count": null,
   "id": "3eb73b34-095f-4072-abd6-7526ab64986c",
   "metadata": {
    "tags": []
   },
   "outputs": [],
   "source": [
    "# Days vs Location Invoices (Graph 1 of 8)\n",
    "\n",
    "sns.set_style(\"whitegrid\")  # Set the plot style to a white grid background\n",
    "\n",
    "plt.figure(figsize=(12, 6))  # Set the figure size to control the plot's dimensions\n",
    "\n",
    "# Create the bar plot for the first location (temp1).\n",
    "ax1 = sns.barplot(data=temp1, \n",
    "                  x='Day_of_Week', \n",
    "                  y='Invoice ID', \n",
    "                  hue='Fuel Type', \n",
    "                  errorbar=None, \n",
    "                  palette='colorblind')\n",
    "\n",
    "# Rotate the x-axis labels for better readability\n",
    "plt.xticks(rotation=45)\n",
    "\n",
    "# Add axis titles to the plot\n",
    "plt.xlabel(\"Day of the Week\")\n",
    "plt.ylabel(\"Number of Invoices\")\n",
    "\n",
    "# Set the legend outside the plot for better readability\n",
    "plt.legend(title=\"Fuel Type\", title_fontsize='15', loc='upper left', bbox_to_anchor=(1, 1))\n",
    "\n",
    "# Add a title to the plot\n",
    "plt.title(\"Location 1 - Invoices by Day of the Week\", fontsize=16)\n",
    "\n",
    "# Save the plot as a JPG image\n",
    "plt.savefig(\"location_1_invoices.jpg\", dpi=250, bbox_inches=\"tight\")\n",
    "\n",
    "# Show the plot\n",
    "plt.show()"
   ]
  },
  {
   "cell_type": "code",
   "execution_count": null,
   "id": "710bc906-2713-4682-b24a-cf5be977d9e2",
   "metadata": {
    "tags": []
   },
   "outputs": [],
   "source": [
    "# Days vs Location Invoices (Graph 2 of 8)\n",
    "\n",
    "sns.set_style(\"whitegrid\")  # Set the plot style to a white grid background\n",
    "\n",
    "plt.figure(figsize=(12, 6))  # Set the figure size to control the plot's dimensions\n",
    "\n",
    "# Create the bar plot\n",
    "ax1 = sns.barplot(data=temp2, \n",
    "                  x='Day_of_Week', \n",
    "                  y='Invoice ID', \n",
    "                  hue='Fuel Type', \n",
    "                  errorbar=None, \n",
    "                  palette='colorblind')\n",
    "\n",
    "# Rotate the x-axis labels for better readability\n",
    "plt.xticks(rotation=45)\n",
    "\n",
    "# Add axis titles to the plot\n",
    "plt.xlabel(\"Day of the Week\")\n",
    "plt.ylabel(\"Number of Invoices\")\n",
    "\n",
    "# Set the legend outside the plot for better readability\n",
    "plt.legend(title=\"Fuel Type\", title_fontsize='15', loc='upper left', bbox_to_anchor=(1, 1))\n",
    "\n",
    "# Add a title to the plot\n",
    "plt.title(\"Location 2 - Invoices by Day of the Week\", fontsize=16)\n",
    "\n",
    "# Save the plot as a JPG image\n",
    "plt.savefig(\"location_2_invoices.jpg\", dpi=250, bbox_inches=\"tight\")\n",
    "\n",
    "# Show the plot\n",
    "plt.show()"
   ]
  },
  {
   "cell_type": "code",
   "execution_count": null,
   "id": "bb28aa7d-9f4f-439a-849b-8c53bdbb0b57",
   "metadata": {
    "tags": []
   },
   "outputs": [],
   "source": [
    "# Days vs Location Invoices (Graph 3 of 8)\n",
    "\n",
    "sns.set_style(\"whitegrid\")  # Set the plot style to a white grid background\n",
    "\n",
    "plt.figure(figsize=(12, 6))  # Set the figure size to control the plot's dimensions\n",
    "\n",
    "# Create the bar plot\n",
    "ax1 = sns.barplot(data=temp3, \n",
    "                  x='Day_of_Week', \n",
    "                  y='Invoice ID', \n",
    "                  hue='Fuel Type', \n",
    "                  errorbar=None, \n",
    "                  palette='colorblind')\n",
    "\n",
    "# Rotate the x-axis labels for better readability\n",
    "plt.xticks(rotation=45)\n",
    "\n",
    "# Add axis titles to the plot\n",
    "plt.xlabel(\"Day of the Week\")\n",
    "plt.ylabel(\"Number of Invoices\")\n",
    "\n",
    "# Set the legend outside the plot for better readability\n",
    "plt.legend(title=\"Fuel Type\", title_fontsize='15', loc='upper left', bbox_to_anchor=(1, 1))\n",
    "\n",
    "# Add a title to the plot\n",
    "plt.title(\"Location 3 - Invoices by Day of the Week\", fontsize=16)\n",
    "\n",
    "# Save the plot as a JPG image\n",
    "plt.savefig(\"location_3_invoices.jpg\", dpi=250, bbox_inches=\"tight\")\n",
    "\n",
    "# Show the plot\n",
    "plt.show()"
   ]
  },
  {
   "cell_type": "code",
   "execution_count": null,
   "id": "e7b98ea0-4afe-40a2-9753-f5edb593daa6",
   "metadata": {
    "tags": []
   },
   "outputs": [],
   "source": [
    "# Days vs Location Invoices (Graph 4 of 8)\n",
    "\n",
    "sns.set_style(\"whitegrid\")  # Set the plot style to a white grid background\n",
    "\n",
    "plt.figure(figsize=(12, 6))  # Set the figure size to control the plot's dimensions\n",
    "\n",
    "# Create the bar plot \n",
    "ax1 = sns.barplot(data=temp4, \n",
    "                  x='Day_of_Week', \n",
    "                  y='Invoice ID', \n",
    "                  hue='Fuel Type', \n",
    "                  errorbar=None, \n",
    "                  palette='colorblind')\n",
    "\n",
    "# Rotate the x-axis labels for better readability\n",
    "plt.xticks(rotation=45)\n",
    "\n",
    "# Add axis titles to the plot\n",
    "plt.xlabel(\"Day of the Week\")\n",
    "plt.ylabel(\"Number of Invoices\")\n",
    "\n",
    "# Set the legend outside the plot for better readability\n",
    "plt.legend(title=\"Fuel Type\", title_fontsize='15', loc='upper left', bbox_to_anchor=(1, 1))\n",
    "\n",
    "# Add a title to the plot\n",
    "plt.title(\"Location 4 - Invoices by Day of the Week\", fontsize=16)\n",
    "\n",
    "# Save the plot as a JPG image\n",
    "plt.savefig(\"location_4_invoices.jpg\", dpi=250, bbox_inches=\"tight\")\n",
    "\n",
    "# Show the plot\n",
    "plt.show()"
   ]
  },
  {
   "cell_type": "code",
   "execution_count": null,
   "id": "c141bd58-1e82-4675-8af3-e4845547fbd1",
   "metadata": {
    "tags": []
   },
   "outputs": [],
   "source": [
    "# Days vs Location Invoices (Graph 5 of 8)\n",
    "\n",
    "sns.set_style(\"whitegrid\")  # Set the plot style to a white grid background\n",
    "\n",
    "plt.figure(figsize=(12, 6))  # Set the figure size to control the plot's dimensions\n",
    "\n",
    "# Create the bar plot\n",
    "ax1 = sns.barplot(data=temp5, \n",
    "                  x='Day_of_Week', \n",
    "                  y='Invoice ID', \n",
    "                  hue='Fuel Type', \n",
    "                  errorbar=None, \n",
    "                  palette='colorblind')\n",
    "\n",
    "# Rotate the x-axis labels for better readability\n",
    "plt.xticks(rotation=45)\n",
    "\n",
    "# Add axis titles to the plot\n",
    "plt.xlabel(\"Day of the Week\")\n",
    "plt.ylabel(\"Number of Invoices\")\n",
    "\n",
    "# Set the legend outside the plot for better readability\n",
    "plt.legend(title=\"Fuel Type\", title_fontsize='15', loc='upper left', bbox_to_anchor=(1, 1))\n",
    "\n",
    "# Add a title to the plot\n",
    "plt.title(\"Location 5 - Invoices by Day of the Week\", fontsize=16)\n",
    "\n",
    "# Save the plot as a JPG image\n",
    "plt.savefig(\"location_5_invoices.jpg\", dpi=250, bbox_inches=\"tight\")\n",
    "\n",
    "# Show the plot\n",
    "plt.show()"
   ]
  },
  {
   "cell_type": "code",
   "execution_count": null,
   "id": "f40c8a96-dde8-48c1-9b3d-064d4ea50acb",
   "metadata": {
    "tags": []
   },
   "outputs": [],
   "source": [
    "# Days vs Location Invoices (Graph 6 of 8)\n",
    "\n",
    "sns.set_style(\"whitegrid\")  # Set the plot style to a white grid background\n",
    "\n",
    "plt.figure(figsize=(12, 6))  # Set the figure size to control the plot's dimensions\n",
    "\n",
    "# Create the bar plot\n",
    "ax1 = sns.barplot(data=temp6, \n",
    "                  x='Day_of_Week', \n",
    "                  y='Invoice ID', \n",
    "                  hue='Fuel Type', \n",
    "                  errorbar=None, \n",
    "                  palette='colorblind')\n",
    "\n",
    "# Rotate the x-axis labels for better readability\n",
    "plt.xticks(rotation=45)\n",
    "\n",
    "# Add axis titles to the plot\n",
    "plt.xlabel(\"Day of the Week\")\n",
    "plt.ylabel(\"Number of Invoices\")\n",
    "\n",
    "# Set the legend outside the plot for better readability\n",
    "plt.legend(title=\"Fuel Type\", title_fontsize='15', loc='upper left', bbox_to_anchor=(1, 1))\n",
    "\n",
    "# Add a title to the plot\n",
    "plt.title(\"Location 6 - Invoices by Day of the Week\", fontsize=16)\n",
    "\n",
    "# Save the plot as a JPG image\n",
    "plt.savefig(\"location_6_invoices.jpg\", dpi=250, bbox_inches=\"tight\")\n",
    "\n",
    "# Show the plot\n",
    "plt.show()"
   ]
  },
  {
   "cell_type": "code",
   "execution_count": null,
   "id": "af3f187b-61c7-4b09-9a2a-d6b3d0e7bfa4",
   "metadata": {
    "tags": []
   },
   "outputs": [],
   "source": [
    "# Days vs Location Invoices (Graph 7 of 8)\n",
    "\n",
    "sns.set_style(\"whitegrid\")  # Set the plot style to a white grid background\n",
    "\n",
    "plt.figure(figsize=(12, 6))  # Set the figure size to control the plot's dimensions\n",
    "\n",
    "# Create the bar plot\n",
    "ax1 = sns.barplot(data=temp7, \n",
    "                  x='Day_of_Week', \n",
    "                  y='Invoice ID', \n",
    "                  hue='Fuel Type', \n",
    "                  errorbar=None, \n",
    "                  palette='colorblind')\n",
    "\n",
    "# Rotate the x-axis labels for better readability\n",
    "plt.xticks(rotation=45)\n",
    "\n",
    "# Add axis titles to the plot\n",
    "plt.xlabel(\"Day of the Week\")\n",
    "plt.ylabel(\"Number of Invoices\")\n",
    "\n",
    "# Set the legend outside the plot for better readability\n",
    "plt.legend(title=\"Fuel Type\", title_fontsize='15', loc='upper left', bbox_to_anchor=(1, 1))\n",
    "\n",
    "# Add a title to the plot\n",
    "plt.title(\"Location 7 - Invoices by Day of the Week\", fontsize=16)\n",
    "\n",
    "# Save the plot as a JPG image\n",
    "plt.savefig(\"location_7_invoices.jpg\", dpi=250, bbox_inches=\"tight\")\n",
    "\n",
    "# Show the plot\n",
    "plt.show()"
   ]
  },
  {
   "cell_type": "code",
   "execution_count": null,
   "id": "fc8c2634-cf39-4e13-8c4b-17d976f92863",
   "metadata": {
    "tags": []
   },
   "outputs": [],
   "source": [
    "# Days vs Location Invoices (Graph 8 of 8)\n",
    "\n",
    "sns.set_style(\"whitegrid\")  # Set the plot style to a white grid background\n",
    "\n",
    "plt.figure(figsize=(12, 6))  # Set the figure size to control the plot's dimensions\n",
    "\n",
    "# Create the bar plot\n",
    "ax1 = sns.barplot(data=temp8, \n",
    "                  x='Day_of_Week', \n",
    "                  y='Invoice ID', \n",
    "                  hue='Fuel Type', \n",
    "                  errorbar=None, \n",
    "                  palette='colorblind')\n",
    "\n",
    "# Rotate the x-axis labels for better readability\n",
    "plt.xticks(rotation=45)\n",
    "\n",
    "# Add axis titles to the plot\n",
    "plt.xlabel(\"Day of the Week\")\n",
    "plt.ylabel(\"Number of Invoices\")\n",
    "\n",
    "# Set the legend outside the plot for better readability\n",
    "plt.legend(title=\"Fuel Type\", title_fontsize='15', loc='upper left', bbox_to_anchor=(1, 1))\n",
    "\n",
    "# Add a title to the plot\n",
    "plt.title(\"Location 8 - Invoices by Day of the Week\", fontsize=16)\n",
    "\n",
    "# Save the plot as a JPG image\n",
    "plt.savefig(\"location_8_invoices.jpg\", dpi=250, bbox_inches=\"tight\")\n",
    "\n",
    "# Show the plot\n",
    "plt.show()"
   ]
  },
  {
   "cell_type": "markdown",
   "id": "ed0c3e07-26ef-48c7-9a02-770086d98520",
   "metadata": {},
   "source": [
    "## In Depth Data Analysis: What is Going On?"
   ]
  },
  {
   "cell_type": "code",
   "execution_count": null,
   "id": "bd02bc60-50f3-42c9-a8ab-0b9ea0b977bc",
   "metadata": {
    "tags": []
   },
   "outputs": [],
   "source": [
    "# What Day is the Cheapest?\n",
    "\n",
    "sns.set_style(\"whitegrid\") \n",
    "plt.figure(figsize=(10, 6))\n",
    "\n",
    "# Group the data in the 'df_invoices' DataFrame by 'Day_of_Week' and calculate the mean of 'Adjusted_cost' for each day\n",
    "bar_plot = df_invoices.groupby(by=['Day_of_Week']).Adjusted_cost.mean().plot(kind='bar', color='goldenrod')\n",
    "\n",
    "# Rotate the x-axis labels for better readability\n",
    "bar_plot.set_xticklabels(bar_plot.get_xticklabels(), rotation=45, ha=\"right\")\n",
    "\n",
    "# Add axis titles to the plot\n",
    "plt.xlabel(\"Day of the Week\")\n",
    "plt.ylabel(\"Average Adjusted Cost\")\n",
    "\n",
    "# Add a title to the plot\n",
    "plt.title(\"Average Adjusted Cost by Day of the Week\", fontsize=16)\n",
    "\n",
    "# Save the plot as a JPG image\n",
    "plt.savefig(\"Cheapest_Days.jpg\", dpi=250, bbox_inches=\"tight\")\n",
    "\n",
    "# Show the plot\n",
    "plt.show()"
   ]
  },
  {
   "cell_type": "code",
   "execution_count": null,
   "id": "34e03609-6f51-4767-aab6-66bd88721609",
   "metadata": {
    "tags": []
   },
   "outputs": [],
   "source": [
    "# Diesel and Gas Breakdown (Side by Side)\n",
    "\n",
    "sns.set_style(\"whitegrid\")\n",
    "fig, axes = plt.subplots(1, 2, figsize=(16, 6))\n",
    "\n",
    "# Plot the graph for Gas (G) on the left side\n",
    "df_G = df_invoices.groupby(by=['Fuel Type']).get_group('G')\n",
    "bar_plot_g = df_G.groupby(by=['Day_of_Week']).Adjusted_cost.mean().plot(kind='bar', color='forestgreen', ax=axes[0])\n",
    "\n",
    "# Set axis titles for the Gas graph\n",
    "axes[0].set_xlabel(\"Day of the Week\")\n",
    "axes[0].set_ylabel(\"Average Adjusted Cost\")\n",
    "axes[0].set_title(\"Gas (G) - Average Adjusted Cost by Day of the Week\")\n",
    "\n",
    "# Rotate the x-axis labels for the Gas graph\n",
    "bar_plot_g.set_xticklabels(bar_plot_g.get_xticklabels(), rotation=45, ha=\"right\")\n",
    "\n",
    "# Plot the graph for Diesel (D) on the right side\n",
    "df_D = df_invoices.groupby(by=['Fuel Type']).get_group('D')\n",
    "bar_plot_d = df_D.groupby(by=['Day_of_Week']).Adjusted_cost.mean().plot(kind='bar', color='maroon', ax=axes[1])\n",
    "\n",
    "# Set axis titles for the Diesel graph\n",
    "axes[1].set_xlabel(\"Day of the Week\")\n",
    "axes[1].set_ylabel(\"Average Adjusted Cost\")\n",
    "axes[1].set_title(\"Diesel (D) - Average Adjusted Cost by Day of the Week\")\n",
    "\n",
    "# Rotate the x-axis labels for the Diesel graph.\n",
    "bar_plot_d.set_xticklabels(bar_plot_d.get_xticklabels(), rotation=45, ha=\"right\")\n",
    "\n",
    "# Adjust the spacing between the two subplots.\n",
    "plt.tight_layout()\n",
    "\n",
    "# Save the combined graph as a JPG image\n",
    "plt.savefig(\"diesel_gas_breakdown.jpg\", dpi=250, bbox_inches=\"tight\")\n",
    "\n",
    "# Show the combined graph\n",
    "plt.show()"
   ]
  },
  {
   "cell_type": "code",
   "execution_count": null,
   "id": "9eb4fd5d-c7cc-4a63-8c52-5b599d61630e",
   "metadata": {
    "tags": []
   },
   "outputs": [],
   "source": [
    "# What are the values of adjusted cost by day of the week?\n",
    "\n",
    "# Group the data in the 'df_invoices' DataFrame by 'Day_of_Week' and calculate the mean of 'Adjusted_cost'\n",
    "df_cost_per_day = df_invoices.groupby(by=['Day_of_Week']).Adjusted_cost.mean().reset_index()\n",
    "df_cost_per_day = df_cost_per_day.sort_values(by='Adjusted_cost')\n",
    "display(df_cost_per_day)"
   ]
  },
  {
   "cell_type": "code",
   "execution_count": null,
   "id": "599cc92b-4d32-4f13-9397-827165a2534c",
   "metadata": {
    "tags": []
   },
   "outputs": [],
   "source": [
    "# Assuming the Tanks can fill up to maximum capacity\n",
    "# Are they really benefitting from the maximum discount they can get from the supplier?\n",
    "\n",
    "print('Gas Station Location 1:')\n",
    "# Calculate the percentage of replenishments benefiting from the maximum discount for each tank at Gas Station Location 1\n",
    "print(f\"For T10: {df_T10[df_T10.Fuel_Level <= 15000].shape[0] / df_T10.shape[0]:.2%} of the replenishments benefited from the maximum discount\")\n",
    "print(f\"For T11: {df_T11[df_T11.Fuel_Level <= 15000].shape[0] / df_T11.shape[0]:.2%} of the replenishments benefited from the maximum discount\")\n",
    "print(f\"For T12: {df_T12[df_T12.Fuel_Level <= 15000].shape[0] / df_T12.shape[0]:.2%} of the replenishments benefited from the maximum discount\")\n",
    "print(f\"For T13: {df_T13[df_T13.Fuel_Level <= 15000].shape[0] / df_T13.shape[0]:.2%} of the replenishments benefited from the maximum discount\")\n",
    "print(f\"For T14: {df_T14[df_T14.Fuel_Level <= 15000].shape[0] / df_T14.shape[0]:.2%} of the replenishments benefited from the maximum discount\")\n",
    "print(f\"For T15: {df_T15[df_T15.Fuel_Level <= 15000].shape[0] / df_T15.shape[0]:.2%} of the replenishments benefited from the maximum discount\")\n",
    "print()\n",
    "\n",
    "print('Gas Station Location 2:')\n",
    "# Calculate the percentage of replenishments benefiting from the maximum discount for each tank at Gas Station Location 2\n",
    "print(f\"For T16: {df_T16[df_T16.Fuel_Level <= 30000].shape[0] / df_T16.shape[0]:.2%} of the replenishments benefited from the maximum discount\")\n",
    "print(f\"For T17: {df_T17[df_T17.Fuel_Level <= 15000].shape[0] / df_T17.shape[0]:.2%} of the replenishments benefited from the maximum discount\")\n",
    "print(f\"For T18: {df_T18[df_T18.Fuel_Level <= 15000].shape[0] / df_T18.shape[0]:.2%} of the replenishments benefited from the maximum discount\")\n",
    "print(f\"For T19: {df_T19[df_T19.Fuel_Level <= 30000].shape[0] / df_T19.shape[0]:.2%} of the replenishments benefited from the maximum discount\")\n",
    "print()\n",
    "\n",
    "print('Gas Station Location 3:')\n",
    "# Calculate the percentage of replenishments benefiting from the maximum discount for each tank at Gas Station Location 3\n",
    "print(f\"For T20: {df_T20[df_T20.Fuel_Level <= 5000].shape[0] / df_T20.shape[0]:.2%} of the replenishments benefited from the maximum discount\")\n",
    "print(f\"For T21: {df_T21[df_T21.Fuel_Level <= 5000].shape[0] / df_T21.shape[0]:.2%} of the replenishments benefited from the maximum discount\")\n",
    "print()\n",
    "\n",
    "print('Gas Station Location 4:')\n",
    "# Calculate the percentage of replenishments benefiting from the maximum discount for each tank at Gas Station Location 4\n",
    "print(f\"For T22: {df_T22[df_T22.Fuel_Level <= 15000].shape[0] / df_T22.shape[0]:.2%} of the replenishments benefited from the maximum discount\")\n",
    "print(f\"For T23: {df_T23[df_T23.Fuel_Level <= 15000].shape[0] / df_T23.shape[0]:.2%} of the replenishments benefited from the maximum discount\")\n",
    "print()\n",
    "\n",
    "print('Gas Station Location 5:')\n",
    "# Calculate the percentage of replenishments benefiting from the maximum discount for each tank at Gas Station Location 5\n",
    "print(f\"For T24: {df_T24[df_T24.Fuel_Level <= 10000].shape[0] / df_T24.shape[0]:.2%} of the replenishments benefited from the maximum discount\")\n",
    "print(f\"For T25: {df_T25[df_T25.Fuel_Level <= 10000].shape[0] / df_T25.shape[0]:.2%} of the replenishments benefited from the maximum discount\")\n",
    "print()\n",
    "\n",
    "print('Gas Station Location 6:')\n",
    "# Calculate the percentage of replenishments benefiting from the maximum discount for each tank at Gas Station Location 6\n",
    "print(f\"For T26: {df_T26[df_T26.Fuel_Level <= 5000].shape[0] / df_T26.shape[0]:.2%} of the replenishments benefited from the maximum discount\")\n",
    "print(f\"For T27: {df_T27[df_T27.Fuel_Level <= 5000].shape[0] / df_T27.shape[0]:.2%} of the replenishments benefited from the maximum discount\")\n",
    "print(f\"For T28: {df_T28[df_T28.Fuel_Level <= 5000].shape[0] / df_T28.shape[0]:.2%} of the replenishments benefited from the maximum discount\")\n",
    "print()\n",
    "\n",
    "print('Gas Station Location 8:')\n",
    "# Calculate the percentage of replenishments benefiting from the maximum discount for each tank at Gas Station Location 8\n",
    "print(f\"For T31: {df_T31[df_T31.Fuel_Level <= 15000].shape[0] / df_T31.shape[0]:.2%} of the replenishments benefited from the maximum discount\")\n",
    "print(f\"For T32: {df_T32[df_T32.Fuel_Level <= 15000].shape[0] / df_T32.shape[0]:.2%} of the replenishments benefited from the maximum discount\")"
   ]
  },
  {
   "cell_type": "markdown",
   "id": "8d938306-dda5-42e2-a859-9691a7b3a400",
   "metadata": {},
   "source": [
    "### Note: Gas Station Location 7 has two tanks of capacity 5000 each. Thus, they cannot benefit from any supplier discounts."
   ]
  },
  {
   "cell_type": "markdown",
   "id": "2c6c01e2-8e60-4926-8100-b9e9a32f3551",
   "metadata": {},
   "source": [
    "## Vizualization of Tank Capacities: What does usage and replenishment look like?\n",
    "- We will use the examples of T20 (cap = 30,000), T12 (cap = 40,000), and T16 (cap = 70,000)"
   ]
  },
  {
   "cell_type": "code",
   "execution_count": null,
   "id": "f519b2af-ac6a-4193-9073-8c1ee69aad03",
   "metadata": {
    "tags": []
   },
   "outputs": [],
   "source": [
    "# For Tank 20 of capacity 30,000\n",
    "\n",
    "# Create a new figure and axis for the plot\n",
    "fig, ax = plt.subplots(figsize=(12, 8))\n",
    "\n",
    "# Plot the Fuel Level over time for Tank 20\n",
    "ax.plot(df_T20.Time_stamp, df_T20.Fuel_Level, label='Fuel Level', color='slateblue')\n",
    "\n",
    "# Add a horizontal line at 5000 for ideal level at which the gas station should refill\n",
    "ax.axhline(5000, color='brown', linestyle='--', label='Minimum Fuel Level')\n",
    "\n",
    "# Set plot title\n",
    "ax.set_title(\"Fuel Level Over Time for Tank 20\", fontsize=16)\n",
    "\n",
    "# Set axis labels\n",
    "ax.set_xlabel(\"Time Stamp\")\n",
    "ax.set_ylabel(\"Fuel Level\")\n",
    "\n",
    "# Add legend to the plot\n",
    "ax.legend()\n",
    "\n",
    "# Save the plot as a JPG image\n",
    "plt.savefig(\"Tank20_Fuel_Level.jpg\", dpi=250, bbox_inches=\"tight\")\n",
    "\n",
    "# Show the plot\n",
    "plt.show()"
   ]
  },
  {
   "cell_type": "code",
   "execution_count": null,
   "id": "a0383a75-0d2d-44ae-a26b-5b29372c2089",
   "metadata": {},
   "outputs": [],
   "source": [
    "# For Tank 12 of capacity 40,000\n",
    "\n",
    "# Create a new figure and axis for the plot\n",
    "fig, ax = plt.subplots(figsize=(12, 8))\n",
    "\n",
    "# Plot the Fuel Level over time for Tank 12\n",
    "ax.plot(df_T12.Time_stamp, df_T12.Fuel_Level, label='Fuel Level', color='slateblue')\n",
    "\n",
    "# Add a horizontal line at 15000 for ideal level at which the gas station should refill\n",
    "ax.axhline(15000, color='brown', linestyle='--', label='Minimum Fuel Level')\n",
    "\n",
    "# Set plot title\n",
    "ax.set_title(\"Fuel Level Over Time for Tank 12\", fontsize=16)\n",
    "\n",
    "# Set axis labels\n",
    "ax.set_xlabel(\"Time Stamp\")\n",
    "ax.set_ylabel(\"Fuel Level\")\n",
    "\n",
    "# Add legend to the plot\n",
    "ax.legend()\n",
    "\n",
    "# Save the plot as a JPG image\n",
    "plt.savefig(\"Tank12_Fuel_Level.jpg\", dpi=250, bbox_inches=\"tight\")\n",
    "\n",
    "# Show the plot\n",
    "plt.show()"
   ]
  },
  {
   "cell_type": "code",
   "execution_count": null,
   "id": "05b23b05-a0b0-432a-9490-d1fd25005ae2",
   "metadata": {},
   "outputs": [],
   "source": [
    "# For Tank 16 of capacity 70,000\n",
    "\n",
    "# Create a new figure and axis for the plot\n",
    "fig, ax = plt.subplots(figsize=(12, 8))\n",
    "\n",
    "# Plot the Fuel Level over time for Tank 16\n",
    "ax.plot(df_T16.Time_stamp, df_T16.Fuel_Level, label='Fuel Level', color='slateblue')\n",
    "\n",
    "# Add a horizontal line at 30000 for ideal level at which the gas station should refill\n",
    "ax.axhline(30000, color='brown', linestyle='--', label='Minimum Fuel Level')\n",
    "\n",
    "# Set plot title\n",
    "ax.set_title(\"Fuel Level Over Time for Tank 16\", fontsize=16)\n",
    "\n",
    "# Set axis labels\n",
    "ax.set_xlabel(\"Time Stamp\")\n",
    "ax.set_ylabel(\"Fuel Level\")\n",
    "\n",
    "# Add legend to the plot\n",
    "ax.legend()\n",
    "\n",
    "# Save the plot as a JPG image\n",
    "plt.savefig(\"Tank16_Fuel_Level.jpg\", dpi=250, bbox_inches=\"tight\")\n",
    "\n",
    "# Show the plot\n",
    "plt.show()"
   ]
  },
  {
   "cell_type": "code",
   "execution_count": null,
   "id": "e4c16d83-646a-419e-9454-319ab6bf9780",
   "metadata": {
    "tags": []
   },
   "outputs": [],
   "source": [
    "# Are locations being efficient when ordering?\n",
    "# Is there ever an instance where they have to make two orders in one day?\n",
    "\n",
    "# Group the invoices by 'Invoice Date' and count the number of occurrences for each combination of location and fuel type\n",
    "df_temp = df_invoices.groupby(by=['Invoice Date'])[['Invoice Gas Station Location', 'Fuel Type']].value_counts().reset_index()\n",
    "\n",
    "# Filter for instances where there are at least two orders on the same day for the same location and fuel type\n",
    "df_temp = df_temp[df_temp[0] >= 2]\n",
    "\n",
    "# Count the occurrences of multiple orders in one day for each location\n",
    "multiple = df_temp['Invoice Gas Station Location'].value_counts().reset_index()\n",
    "\n",
    "# Display the results\n",
    "display(multiple)"
   ]
  },
  {
   "cell_type": "markdown",
   "id": "0dfec925-ff57-4c8e-b723-f4f109ec88bb",
   "metadata": {},
   "source": [
    "### There are 5 gas station locations that ordered the same fuel type more than once per day."
   ]
  },
  {
   "cell_type": "code",
   "execution_count": null,
   "id": "d041d409-0625-4524-a139-ec9c8faebbd2",
   "metadata": {
    "tags": []
   },
   "outputs": [],
   "source": [
    "# Vizualize the amount of gas stations ordering more than once per day\n",
    "plt.figure(figsize=(10, 6))\n",
    "ax = sns.barplot(data=multiple, x='index', y='Invoice Gas Station Location', palette='colorblind')\n",
    "\n",
    "# Add axis titles\n",
    "plt.xlabel(\"Gas Station Location\")\n",
    "plt.ylabel(\"Number of Days with Multiple Orders\")\n",
    "plt.title(\"Efficiency of Gas Station Locations in Ordering\", fontsize=16)\n",
    "\n",
    "# Save the plot as a JPG image\n",
    "plt.savefig(\"Ordering_Efficiency.jpg\", dpi=250, bbox_inches=\"tight\")\n",
    "\n",
    "# Show the plot\n",
    "plt.show()"
   ]
  },
  {
   "cell_type": "markdown",
   "id": "153f30dd-9d37-469e-956c-7e6f92e52f70",
   "metadata": {},
   "source": [
    "### Which location orders (more than once a day) the most? Location 1"
   ]
  },
  {
   "cell_type": "markdown",
   "id": "6f17be54-db68-4a03-bc01-4bed42173b09",
   "metadata": {},
   "source": [
    "## Price Calculations: What are the potential savings?"
   ]
  },
  {
   "cell_type": "markdown",
   "id": "ae1692cb-6638-413c-aec0-db93dd2beb88",
   "metadata": {},
   "source": [
    "### We will be focusing on Gas Station 1 that has the following tanks: \n",
    "- T10 \n",
    "- T11\n",
    "- T12 \n",
    "- T13\n",
    "- T14 \n",
    "- T15\n",
    "\n",
    "### Note: This same methedology can be replicated for locations 2 - 8, gathering even more potential savings"
   ]
  },
  {
   "cell_type": "code",
   "execution_count": null,
   "id": "e9c5555e-63f6-4a7a-abc8-a294b1f2520f",
   "metadata": {
    "tags": []
   },
   "outputs": [],
   "source": [
    "# Goal: To find the average Consumption per day and per week\n",
    "\n",
    "# Step 1:\n",
    "# Extract the date component from the 'Time_stamp' column for each tank location\n",
    "df_T10['Date'] = df_T10['Time_stamp'].dt.date\n",
    "df_T11['Date'] = df_T11['Time_stamp'].dt.date\n",
    "df_T12['Date'] = df_T12['Time_stamp'].dt.date\n",
    "df_T13['Date'] = df_T13['Time_stamp'].dt.date\n",
    "df_T14['Date'] = df_T14['Time_stamp'].dt.date\n",
    "df_T15['Date'] = df_T15['Time_stamp'].dt.date"
   ]
  },
  {
   "cell_type": "code",
   "execution_count": null,
   "id": "9d8ea247-7ab3-451a-a294-e8ff276a5657",
   "metadata": {},
   "outputs": [],
   "source": [
    "# Step 2:\n",
    "# Calculate the differences in fuel levels for all tanks\n",
    "\n",
    "df_T10['Fuel_Level_Difference'] = df_T10['Fuel_Level'].diff()\n",
    "df_T11['Fuel_Level_Difference'] = df_T11['Fuel_Level'].diff()\n",
    "df_T12['Fuel_Level_Difference'] = df_T12['Fuel_Level'].diff()\n",
    "df_T13['Fuel_Level_Difference'] = df_T13['Fuel_Level'].diff()\n",
    "df_T14['Fuel_Level_Difference'] = df_T14['Fuel_Level'].diff()\n",
    "df_T15['Fuel_Level_Difference'] = df_T15['Fuel_Level'].diff()"
   ]
  },
  {
   "cell_type": "code",
   "execution_count": null,
   "id": "4713bba7-a8e8-4509-a617-65ab7738b80f",
   "metadata": {},
   "outputs": [],
   "source": [
    "# Step 3:\n",
    "# Calculate and print the average daily fuel consumption for all tanks\n",
    "\n",
    "print(f\"The average consumption per day for T10 is \\\n",
    "{round((df_T10[df_T10['Fuel_Level_Difference'] < 0]['Fuel_Level_Difference'].mul(-1).sum()) / df_T10['Date'].nunique(), 2)} \\\n",
    "liters per day\")\n",
    "print()\n",
    "\n",
    "print(f\"The average consumption per day for T11 is \\\n",
    "{round((df_T11[df_T11['Fuel_Level_Difference'] < 0]['Fuel_Level_Difference'].mul(-1).sum()) / df_T11['Date'].nunique(), 2)} \\\n",
    "liters per day\")\n",
    "print()\n",
    "\n",
    "print(f\"The average consumption per day for T12 is \\\n",
    "{round((df_T12[df_T12['Fuel_Level_Difference'] < 0]['Fuel_Level_Difference'].mul(-1).sum()) / df_T12['Date'].nunique(), 2)} \\\n",
    "liters per day\")\n",
    "print()\n",
    "\n",
    "print(f\"The average consumption per day for T13 is \\\n",
    "{round((df_T13[df_T13['Fuel_Level_Difference'] < 0]['Fuel_Level_Difference'].mul(-1).sum()) / df_T13['Date'].nunique(), 2)} \\\n",
    "liters per day\")\n",
    "print()\n",
    "\n",
    "print(f\"The average consumption per day for T14 is \\\n",
    "{round((df_T14[df_T14['Fuel_Level_Difference'] < 0]['Fuel_Level_Difference'].mul(-1).sum()) / df_T14['Date'].nunique(), 2)} \\\n",
    "liters per day\")\n",
    "print()\n",
    "\n",
    "print(f\"The average consumption per day for T15 is \\\n",
    "{round((df_T15[df_T15['Fuel_Level_Difference'] < 0]['Fuel_Level_Difference'].mul(-1).sum()) / df_T15['Date'].nunique(), 2)} \\\n",
    "liters per day\")\n",
    "print()"
   ]
  },
  {
   "cell_type": "code",
   "execution_count": null,
   "id": "e6648946-86ab-4c16-8cfe-bf4db358faf2",
   "metadata": {},
   "outputs": [],
   "source": [
    "# Step 4/ Final Step:\n",
    "# Calculate and print the average weekly fuel consumption for all tanks\n",
    "\n",
    "print(f\"The average weekly comsumption for T10 is \\\n",
    "{round(((df_T10[df_T10['Fuel_Level_Difference'] < 0]['Fuel_Level_Difference'].mul(-1).sum()) / df_T10['Date'].nunique()) * 7,2)}\\\n",
    "liters per day\")\n",
    "print()\n",
    "\n",
    "print(f\"The average weekly comsumption for T11 is \\\n",
    "{round(((df_T11[df_T11['Fuel_Level_Difference'] < 0]['Fuel_Level_Difference'].mul(-1).sum()) / df_T11['Date'].nunique())*7, 2)}\\\n",
    "liters per day\")\n",
    "print()\n",
    "\n",
    "print(f\"The average weekly comsumption for T12 is \\\n",
    "{round(((df_T12[df_T12['Fuel_Level_Difference'] < 0]['Fuel_Level_Difference'].mul(-1).sum()) / df_T12['Date'].nunique())*7, 2)}\\\n",
    "liters per day\")\n",
    "print()\n",
    "\n",
    "print(f\"The average weekly comsumption for T13 is \\\n",
    "{round(((df_T13[df_T13['Fuel_Level_Difference'] < 0]['Fuel_Level_Difference'].mul(-1).sum()) / df_T13['Date'].nunique())*7, 2)}\\\n",
    "liters per day\")\n",
    "print()\n",
    "\n",
    "print(f\"The average weekly comsumption for T14 is \\\n",
    "{round(((df_T14[df_T14['Fuel_Level_Difference'] < 0]['Fuel_Level_Difference'].mul(-1).sum()) / df_T14['Date'].nunique())*7, 2)}\\\n",
    "liters per day\")\n",
    "print()\n",
    "\n",
    "print(f\"The average weekly comsumption for T15 is \\\n",
    "{round(((df_T15[df_T15['Fuel_Level_Difference'] < 0]['Fuel_Level_Difference'].mul(-1).sum()) / df_T15['Date'].nunique())*7, 2)}\\\n",
    "liters per day\")\n",
    "print()"
   ]
  },
  {
   "cell_type": "markdown",
   "id": "1e3bd51b-0f15-4aa9-b85a-f9fe350a6eaf",
   "metadata": {},
   "source": [
    "### Based on previous graphs, we know that all of the tanks at Location 1 have a capacity of 40,000. However since the monthly consumption of all is below 40,000, then they can order once a week (between 25000 and 40000) to benefit from the maximum discount (which in this case in 3 cents per liter)"
   ]
  },
  {
   "cell_type": "markdown",
   "id": "bec8b559-229d-4153-b8a6-9e918ca640f5",
   "metadata": {},
   "source": [
    "### The Recommendation:\n",
    "- For Tank T10, they could order on average 25000 liters once a week on Saturday (so 4 times a month)\n",
    "- For Tank T11, they could order on average 35000 liters once a week on Saturday (so 4 times a month)\n",
    "- For Tank 12, they could order on average 35000 liters once a week on Saturday (so 4 times a month)\n",
    "- For Tank 13, they could order on average 25000 liters once every two weeks on Saturday (so 2 times a month)\n",
    "- For Tank 14, they could order on average 25000 liters once a week on Saturday (so 4 times a month)\n",
    "- For Tank 15, they could order on average 35000 liters once every two weeks on Saturday (so 2 times a month)"
   ]
  },
  {
   "cell_type": "code",
   "execution_count": null,
   "id": "984618dc-39ba-46d3-a652-be02556f85aa",
   "metadata": {
    "tags": []
   },
   "outputs": [],
   "source": [
    "# Calculate the total  of number replenishments based on the number of unique tanks\n",
    "\n",
    "total_replenishments = (\n",
    "    4 * (df_T10.Date.nunique()/30) + \n",
    "    4 * (df_T11.Date.nunique()/30) + \n",
    "    4 * (df_T12.Date.nunique()/30) + \n",
    "    2 * (df_T13.Date.nunique()/30) +\n",
    "    4 * (df_T14.Date.nunique()/30) +\n",
    "    2 * (df_T15.Date.nunique()/30)\n",
    ")\n",
    "\n",
    "# Round the total replenishments to the nearest whole number\n",
    "total_replenishments = round(total_replenishments)\n",
    "\n",
    "print(f\"Thus, following our recommendation we can conclude that Location 1 could have had {total_replenishments} replenishments \\n(over the last 2 and a half years) instead of {df_Inv_1.shape[0]} replenishments\")"
   ]
  },
  {
   "cell_type": "code",
   "execution_count": null,
   "id": "ee1d5f82-61aa-4757-86df-86d607ac2b9f",
   "metadata": {
    "tags": []
   },
   "outputs": [],
   "source": [
    "# How much would it cost (per gallon) if Location 1 followed our recommendations?\n",
    "# Note: This means that they would get 3 cents off per liter\n",
    "\n",
    "# Access the value at the first row (index 0) and the second column (index 1) df_cost_per_day\n",
    "initial_price = df_cost_per_day.iloc[0][1]\n",
    "\n",
    "# Subtract 0.03 from the initial price to apply a 3 cent discount\n",
    "discounted_price = initial_price - 0.03\n",
    "\n",
    "# Round the discounted_price to three decimal places\n",
    "discounted_price = discounted_price.round(3)\n",
    "\n",
    "print(discounted_price)"
   ]
  },
  {
   "cell_type": "code",
   "execution_count": null,
   "id": "ffd3d95d-2301-45ba-b3db-afa1403b0b09",
   "metadata": {
    "tags": []
   },
   "outputs": [],
   "source": [
    "# The average cost of replenishment per tank, per month\n",
    "\n",
    "# Calculate the monthly cost for tank T10 by multiplying the refill amount (25000) by 4 (to represent 4 weeks)\n",
    "# and then by the discounted price\n",
    "monthly_cost_T10 = 25000 * 4 * discounted_price\n",
    "\n",
    "# Calculate the monthly cost for tank T11 by multiplying the refill amount (35000) by 4 (to represent 4 weeks)\n",
    "# and then by the discounted price\n",
    "monthly_cost_T11 = 35000 * 4 * discounted_price\n",
    "\n",
    "# Calculate the monthly cost for tank T12 by multiplying the refill amount (35000) by 4 (to represent 4 weeks)\n",
    "# and then by the discounted price\n",
    "monthly_cost_T12 = 35000 * 4 * discounted_price\n",
    "\n",
    "# Calculate the monthly cost for tank T13 by multiplying the refill amount (25000) by 2 (to represent twice a month)\n",
    "# and then by the discounted price\n",
    "monthly_cost_T13 = 25000 * 2 * discounted_price\n",
    "\n",
    "# Calculate the monthly cost for tank T14 by multiplying the refill amount (25000) by 4 (to represent 4 weeks)\n",
    "# and then by the discounted price\n",
    "monthly_cost_T14 = 25000 * 4 * discounted_price\n",
    "\n",
    "# Calculate the monthly cost for tank T15 by multiplying the refill amount (35000) by 4 (to represent twice a month)\n",
    "# and then by the discounted price\n",
    "monthly_cost_T15 = 35000 * 2 * discounted_price\n",
    "\n",
    "print(f\"The average monthly estimated cost of replenishement for Tank T10 is ${monthly_cost_T10:,.2f}\")\n",
    "print(f\"The average monthly estimated cost of replenishement for Tank T11 is ${monthly_cost_T11:,.2f}\")\n",
    "print(f\"The average monthly estimated cost of replenishement for Tank T12 is ${monthly_cost_T12:,.2f}\")\n",
    "print(f\"The average monthly estimated cost of replenishement for Tank T13 is ${monthly_cost_T13:,.2f}\")\n",
    "print(f\"The average monthly estimated cost of replenishement for Tank T14 is ${monthly_cost_T14:,.2f}\")\n",
    "print(f\"The average monthly estimated cost of replenishement for Tank T15 is ${monthly_cost_T15:,.2f}\")"
   ]
  },
  {
   "cell_type": "code",
   "execution_count": null,
   "id": "64bf8ef2-5f53-4955-976a-3da9b4417f7b",
   "metadata": {
    "tags": []
   },
   "outputs": [],
   "source": [
    "# Thus, now that we have the monthly average, let's multiply the data by 2 1/2 years to get the total cost per tank\n",
    "\n",
    "estimated_cost_T10 = monthly_cost_T10 * (df_T10.Date.nunique()/30)\n",
    "estimated_cost_T11 = monthly_cost_T11 * (df_T11.Date.nunique()/30)\n",
    "estimated_cost_T12 = monthly_cost_T12 * (df_T12.Date.nunique()/30)\n",
    "estimated_cost_T13 = monthly_cost_T13 * (df_T13.Date.nunique()/30)\n",
    "estimated_cost_T14 = monthly_cost_T14 * (df_T14.Date.nunique()/30)\n",
    "estimated_cost_T15 = monthly_cost_T15 * (df_T15.Date.nunique()/30)\n",
    "\n",
    "print(f\"The total estimated cost of replenishment for tank T10 for the 2 1/2 years is ${estimated_cost_T10:,.2f}\")\n",
    "print(f\"The total estimated cost of replenishment for tank T11 for the 2 1/2 years is ${estimated_cost_T11:,.2f}\")\n",
    "print(f\"The total estimated cost of replenishment for tank T12 for the 2 1/2 years is ${estimated_cost_T12:,.2f}\")\n",
    "print(f\"The total estimated cost of replenishment for tank T13 for the 2 1/2 years is ${estimated_cost_T13:,.2f}\")\n",
    "print(f\"The total estimated cost of replenishment for tank T14 for the 2 1/2 years is ${estimated_cost_T14:,.2f}\")\n",
    "print(f\"The total estimated cost of replenishment for tank T15 for the 2 1/2 years is ${estimated_cost_T15:,.2f}\")"
   ]
  },
  {
   "cell_type": "code",
   "execution_count": null,
   "id": "48aacbe8-66c0-4c75-9f6b-024148421a0d",
   "metadata": {
    "tags": []
   },
   "outputs": [],
   "source": [
    "# Now, let's add up all the values to get the total cost of all tanks in location 1\n",
    "estimated_total_1 = estimated_cost_T10 + estimated_cost_T11 + estimated_cost_T12+ estimated_cost_T13+ estimated_cost_T14+ estimated_cost_T15\n",
    "print(estimated_total_1)\n",
    "\n",
    "# For comparison, we also need the total amount spent (at location 1) to date\n",
    "total_location_1 = df_Inv_1['Gross Purchase Cost'].sum()\n",
    "print(total_location_1)"
   ]
  },
  {
   "cell_type": "markdown",
   "id": "a41f64c2-5da1-42a9-9847-dacee41e1a7a",
   "metadata": {},
   "source": [
    "## Thus, Location 1 cound have paid `$18,042,310` instead of `$18,198,952.88`"
   ]
  },
  {
   "cell_type": "markdown",
   "id": "e8edda7b-d98b-4f30-b2c1-3c514372a1aa",
   "metadata": {},
   "source": [
    "## Giving us `$156,642.88` in savings from just one location!"
   ]
  },
  {
   "cell_type": "code",
   "execution_count": null,
   "id": "3e37d04f-5f11-4df9-8e34-267d371904cb",
   "metadata": {},
   "outputs": [],
   "source": []
  }
 ],
 "metadata": {
  "kernelspec": {
   "display_name": "Python 3 (ipykernel)",
   "language": "python",
   "name": "python3"
  },
  "language_info": {
   "codemirror_mode": {
    "name": "ipython",
    "version": 3
   },
   "file_extension": ".py",
   "mimetype": "text/x-python",
   "name": "python",
   "nbconvert_exporter": "python",
   "pygments_lexer": "ipython3",
   "version": "3.11.4"
  }
 },
 "nbformat": 4,
 "nbformat_minor": 5
}
